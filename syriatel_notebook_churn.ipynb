{
 "cells": [
  {
   "cell_type": "markdown",
   "id": "941956ca",
   "metadata": {},
   "source": [
    "# SYRIATEL CUSTOMER CHURN\n",
    "\n",
    "## KEY STAKEHOLDERS\n",
    "1. Executive Leadership Team\n",
    "2. Customer Retention Department\n",
    "3. Marketing Team\n",
    "4. Finance Department\n",
    "5. Customer Service Team\n",
    "\n",
    "\n",
    "\n",
    "## PROBLEM STATEMENT\n",
    "\n",
    "SyriaTel is a telecommunications company that is experiencing significant customer churn, hence hurting their profits. It's getting more expensive to find new customers, and there are already many phone companies competing for the same people. Because of this, retaining existing customers has become very important for the company to stay successful.\n",
    "\n",
    "**The core business challenge**: SyriaTel needs to identify customers who are likely to churn before they actually leave, enabling proactive retention strategies that are more cost-effective than acquiring new customers.\n",
    "\n",
    "## BUSINESS UNDERSTANDING\n",
    "\n",
    "In the highly competitive telecommunications industry, customer churn represents one of the most significant threats to sustainable growth. SyriaTel faces the challenge of maintaining profitability while competing for market share in an increasingly saturated environment.\n",
    "\n",
    "### Business Value Proposition\n",
    "By successfully predicting customer churn, SyriaTel can:\n",
    "\n",
    "1. *Reduce Revenue Loss*: Proactively retain high-value customers before they churn\n",
    "2. *Optimize Marketing Spend*: Focus acquisition efforts on segments less likely to churn\n",
    "3. *Improve Customer Experience*: Address service issues before they lead to churn\n",
    "4. *Enhance Competitive Position*: Build stronger customer relationships through personalized retention strategies\n",
    "5. *Increase Profitability*: Lower overall customer acquisition costs while improving lifetime value\n",
    "\n",
    "### Success Criteria\n",
    "\n",
    "- Primary: Reduce customer churn rate.\n",
    "- Secondary: Achieve high model accuracy.\n",
    "- Tertiary: Generate positive ROI.\n",
    "- Qualitative: Improve customer satisfaction and strengthen brand loyalty"
   ]
  },
  {
   "cell_type": "code",
   "execution_count": 4,
   "id": "e46c692f",
   "metadata": {},
   "outputs": [],
   "source": [
    "# Import necessary libraries\n",
    "import pandas as pd\n",
    "import numpy as np\n",
    "import matplotlib.pyplot as plt\n",
    "import seaborn as sns\n",
    "from scipy import stats\n",
    "import warnings\n",
    "warnings.filterwarnings('ignore')"
   ]
  },
  {
   "cell_type": "code",
   "execution_count": 5,
   "id": "a50c97cf",
   "metadata": {},
   "outputs": [],
   "source": [
    "# Machine learning imports\n",
    "from sklearn.model_selection import train_test_split, GridSearchCV, cross_val_score\n",
    "from sklearn.preprocessing import StandardScaler, LabelEncoder\n",
    "from sklearn.linear_model import LogisticRegression\n",
    "from sklearn.tree import DecisionTreeClassifier\n",
    "from sklearn.ensemble import RandomForestClassifier\n",
    "from sklearn.metrics import (classification_report, confusion_matrix, accuracy_score, \n",
    "                           precision_score, recall_score, f1_score, roc_auc_score, roc_curve)\n",
    "from sklearn.tree import plot_tree"
   ]
  },
  {
   "cell_type": "code",
   "execution_count": 6,
   "id": "a95822b6",
   "metadata": {},
   "outputs": [],
   "source": [
    "# Set style for better visualizations\n",
    "plt.style.use('default')\n",
    "sns.set_palette(\"husl\")\n"
   ]
  }
 ],
 "metadata": {
  "kernelspec": {
   "display_name": "Python 3",
   "language": "python",
   "name": "python3"
  },
  "language_info": {
   "codemirror_mode": {
    "name": "ipython",
    "version": 3
   },
   "file_extension": ".py",
   "mimetype": "text/x-python",
   "name": "python",
   "nbconvert_exporter": "python",
   "pygments_lexer": "ipython3",
   "version": "3.13.5"
  }
 },
 "nbformat": 4,
 "nbformat_minor": 5
}
